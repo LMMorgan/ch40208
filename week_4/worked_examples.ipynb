{
 "cells": [
  {
   "cell_type": "markdown",
   "metadata": {},
   "source": [
    "# Worked Examples\n",
    "\n",
    "### Dr Andrew McCluskey \n",
    "\n",
    "#### Email: [andrew.mccluskey@diamond.ac.uk](mailto:andrew.mccluskey@diamond.ac.uk)\n",
    "\n",
    "It is important to note that those represent only an example of how the problem in the handout may be approached. \n",
    "Programming problems such as these have **many** correct methods.\n",
    "\n",
    "We **strongly** advise that you try and work though the problem without looking at this worked example. \n",
    "This is the best way to improve your programming skills; as programming is inherently problem-solving based. \n",
    "\n",
    "## Problem 1: Molecular rotation\n",
    "\n",
    "#### Spec \n",
    "\n",
    "Read in the `water.txt` file, visualise it, then rotate the molecule through some angle and visualise it again.\n",
    "\n",
    "#### Algorithm\n",
    "\n",
    "1. Import `numpy`\n",
    "2. Write a function for rotation, using equation 4\n",
    "3. Load the molecule in using `np.loadtxt`\n",
    "4. Import `visualisation`\n",
    "5. Visualise the molecule\n",
    "6. Use the `rotation` function to get the `x_new` and `y_new`\n",
    "7. Visualise these new positions"
   ]
  },
  {
   "cell_type": "code",
   "execution_count": null,
   "metadata": {},
   "outputs": [],
   "source": [
    "import numpy as np"
   ]
  },
  {
   "cell_type": "code",
   "execution_count": null,
   "metadata": {},
   "outputs": [],
   "source": [
    "def rotation(x, y, angle):\n",
    "    \"\"\"\n",
    "    Rotate the x and y coordinates of a molecule\n",
    "    through some angle (in radians)\n",
    "    \"\"\"\n",
    "    x_new = x * np.cos(angle) - y * np.sin(angle)\n",
    "    y_new = y * np.cos(angle) + x * np.sin(angle)\n",
    "    return x_new, y_new"
   ]
  },
  {
   "cell_type": "code",
   "execution_count": null,
   "metadata": {},
   "outputs": [],
   "source": [
    "x, y, z = np.loadtxt('water.txt', unpack=True)"
   ]
  },
  {
   "cell_type": "code",
   "execution_count": null,
   "metadata": {},
   "outputs": [],
   "source": [
    "import visualisation"
   ]
  },
  {
   "cell_type": "code",
   "execution_count": null,
   "metadata": {},
   "outputs": [],
   "source": [
    "visualisation.show(x, y)"
   ]
  },
  {
   "cell_type": "code",
   "execution_count": null,
   "metadata": {},
   "outputs": [],
   "source": [
    "x_new, y_new = rotation(x, y, np.pi/2)"
   ]
  },
  {
   "cell_type": "code",
   "execution_count": null,
   "metadata": {},
   "outputs": [],
   "source": [
    "visualisation.show(x_new, y_new)"
   ]
  },
  {
   "cell_type": "markdown",
   "metadata": {},
   "source": [
    "## Extension\n",
    "\n",
    "#### Spec \n",
    "\n",
    "Add a function to transform the position of the molecule and find that the rotation is around the origin (initially the position of the oxygen atom). \n",
    "Therefore, allow rotation around the centre of mass."
   ]
  },
  {
   "cell_type": "code",
   "execution_count": null,
   "metadata": {},
   "outputs": [],
   "source": [
    "def transform(x, y, x_change, y_change):\n",
    "    \"\"\"\n",
    "    Transform the position of the molecule \n",
    "    by some amount\n",
    "    \"\"\"\n",
    "    x_new = x + x_change\n",
    "    y_new = y + y_change\n",
    "    return x_new, y_new"
   ]
  },
  {
   "cell_type": "code",
   "execution_count": null,
   "metadata": {},
   "outputs": [],
   "source": [
    "x2, y2 = transform(x, y, 1, 0)"
   ]
  },
  {
   "cell_type": "code",
   "execution_count": null,
   "metadata": {},
   "outputs": [],
   "source": [
    "visualisation.show(x2, y2)"
   ]
  },
  {
   "cell_type": "code",
   "execution_count": null,
   "metadata": {},
   "outputs": [],
   "source": [
    "x3, y3 = rotation(x2, y2, np.pi)"
   ]
  },
  {
   "cell_type": "code",
   "execution_count": null,
   "metadata": {},
   "outputs": [],
   "source": [
    "visualisation.show(x3, y3)"
   ]
  },
  {
   "cell_type": "markdown",
   "metadata": {},
   "source": [
    "#### Algorithm\n",
    "\n",
    "The is the algorithm for the centre of mass rotation\n",
    "\n",
    "1. Calculate the centre of mass in the $x$ and $y$ axes from the following equation (where $m$ are the masses and $x$ are the position)\n",
    "$$ x_{\\text{com}} = \\frac{\\sum_{i=1}^{N}{m_i x_i}}{\\sum_{i=1}^{N}{m_i}} $$\n",
    "\n",
    "2. Transform the molecule such that the centre of mass is now 0, 0\n",
    "3. Perform the rotation\n",
    "4. Move the molecule back so that the centre of mass is in the original position but with the molecule rotated"
   ]
  },
  {
   "cell_type": "code",
   "execution_count": null,
   "metadata": {},
   "outputs": [],
   "source": [
    "masses = [16, 1, 1]\n",
    "\n",
    "def centre_of_mass(x, y, masses):\n",
    "    \"\"\"\n",
    "    Find the centre of mass\n",
    "    \"\"\"\n",
    "    x_com = np.sum(masses * x) / np.sum(masses)\n",
    "    y_com = np.sum(masses * y) / np.sum(masses)\n",
    "    return x_com, y_com"
   ]
  },
  {
   "cell_type": "code",
   "execution_count": null,
   "metadata": {},
   "outputs": [],
   "source": [
    "x_com, y_com = centre_of_mass(x2, y2, masses)"
   ]
  },
  {
   "cell_type": "code",
   "execution_count": null,
   "metadata": {},
   "outputs": [],
   "source": [
    "x4, y4 = transform(x2, y2, -x_com, -y_com)\n",
    "x5, y5 = rotation(x4, y4, np.pi)\n",
    "x6, y6 = transform(x5, y5, x_com, y_com)"
   ]
  },
  {
   "cell_type": "code",
   "execution_count": null,
   "metadata": {},
   "outputs": [],
   "source": [
    "visualisation.show(x6, y6)"
   ]
  },
  {
   "cell_type": "code",
   "execution_count": null,
   "metadata": {},
   "outputs": [],
   "source": []
  }
 ],
 "metadata": {
  "kernelspec": {
   "display_name": "Python 3",
   "language": "python",
   "name": "python3"
  },
  "language_info": {
   "codemirror_mode": {
    "name": "ipython",
    "version": 3
   },
   "file_extension": ".py",
   "mimetype": "text/x-python",
   "name": "python",
   "nbconvert_exporter": "python",
   "pygments_lexer": "ipython3",
   "version": "3.7.3"
  }
 },
 "nbformat": 4,
 "nbformat_minor": 2
}
