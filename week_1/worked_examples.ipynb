{
 "cells": [
  {
   "cell_type": "markdown",
   "metadata": {},
   "source": [
    "# Worked Examples\n",
    "\n",
    "### Dr Andrew McCluskey \n",
    "\n",
    "#### Email: [andrew.mccluskey@diamond.ac.uk](mailto:andrew.mccluskey@diamond.ac.uk)\n",
    "\n",
    "It is important to note that those represent only an example of how the problem in the handout may be approached. \n",
    "Programming problems such as these have **many** correct methods.\n",
    "\n",
    "We **strongly** advise that you try and work though the problem without looking at this worked example. \n",
    "This is the best way to improve your programming skills; as programming is inherently problem-solving based. \n",
    "\n",
    "## Problem 1: Unit conversion\n",
    "\n",
    "#### Spec \n",
    "\n",
    "Write some code that would allow a user to input a temperature in Fahrenheit and convert this to Celsius, then printing the converted value to the screen.\n",
    "\n",
    "#### Algorithm\n",
    "\n",
    "1. Get input Fahrenheit temperature from the user\n",
    "2. Preform conversion\n",
    "3. Print new value to the screen"
   ]
  },
  {
   "cell_type": "code",
   "execution_count": null,
   "metadata": {},
   "outputs": [],
   "source": [
    "temp_in_fahrenheit_string = input(\"What is the temperature in Fahrenheit? \")\n",
    "temp_in_fahrenheit = float(temp_in_fahrenheit_string)"
   ]
  },
  {
   "cell_type": "code",
   "execution_count": null,
   "metadata": {},
   "outputs": [],
   "source": [
    "temp_in_celsius = 5 * (temp_in_fahrenheit - 32) / 9"
   ]
  },
  {
   "cell_type": "code",
   "execution_count": null,
   "metadata": {},
   "outputs": [],
   "source": [
    "print('{:.1f} Fahrenheit is equal to {:.1f} Celsius'.format(temp_in_fahrenheit, temp_in_celsius))"
   ]
  },
  {
   "cell_type": "markdown",
   "metadata": {},
   "source": [
    "## Problem 2: Equilibrium constant\n",
    "\n",
    "#### Spec \n",
    "\n",
    "Write some code that will calculate values for the equilibrium constant, $K$, for a given free energy change at a specific temperature (300 K). \n",
    "The program should has the user for the free-energy change value, $\\Delta G$ or $\\Delta g$, and to specify the units for this. \n",
    "\n",
    "#### Algorithm\n",
    "\n",
    "1. Get the `exp` function\n",
    "2. Assign constants\n",
    "3. Get free-energy change from user\n",
    "4. Get units from user\n",
    "5. Choose correct equation depending on units\n",
    "6. If necessary convert from eV to J\n",
    "7. Perform calculation\n",
    "8. Print value of $K$ to the screen"
   ]
  },
  {
   "cell_type": "code",
   "execution_count": null,
   "metadata": {},
   "outputs": [],
   "source": [
    "from math import exp"
   ]
  },
  {
   "cell_type": "code",
   "execution_count": null,
   "metadata": {},
   "outputs": [],
   "source": [
    "R = 8.314\n",
    "kB = 1.3806e-23\n",
    "eV = 96485"
   ]
  },
  {
   "cell_type": "code",
   "execution_count": null,
   "metadata": {},
   "outputs": [],
   "source": [
    "free_energy_change = float(input(\"What was the free energy change? \"))"
   ]
  },
  {
   "cell_type": "code",
   "execution_count": null,
   "metadata": {},
   "outputs": [],
   "source": [
    "units = int(input(\"Please define the units for the free energy change. \"\n",
    "                  \"For units of kJ/mol input 1, for eV input 2, for J input 3. \"))"
   ]
  },
  {
   "cell_type": "code",
   "execution_count": null,
   "metadata": {},
   "outputs": [],
   "source": [
    "if units == 1:\n",
    "    equilibrium_constant = exp(-free_energy_change / (R * 300))\n",
    "elif (units == 2 or units == 3):\n",
    "    if units == 2:\n",
    "        free_energy_change = free_energy_change * eV\n",
    "    equilibrium_constant = exp(-free_energy_change / (kB * 300))\n",
    "else:\n",
    "    print(\"Warning! The integer input for the units was not valid, please try again!\")"
   ]
  },
  {
   "cell_type": "code",
   "execution_count": null,
   "metadata": {},
   "outputs": [],
   "source": [
    "print('The equilibrium constant at 300 K is {:.3e}.'.format(equilibrium_constant))"
   ]
  }
 ],
 "metadata": {
  "kernelspec": {
   "display_name": "Python 3",
   "language": "python",
   "name": "python3"
  },
  "language_info": {
   "codemirror_mode": {
    "name": "ipython",
    "version": 3
   },
   "file_extension": ".py",
   "mimetype": "text/x-python",
   "name": "python",
   "nbconvert_exporter": "python",
   "pygments_lexer": "ipython3",
   "version": "3.7.3"
  }
 },
 "nbformat": 4,
 "nbformat_minor": 2
}
