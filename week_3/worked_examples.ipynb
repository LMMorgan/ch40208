{
 "cells": [
  {
   "cell_type": "markdown",
   "metadata": {},
   "source": [
    "# Worked Examples\n",
    "\n",
    "### Dr Andrew McCluskey \n",
    "\n",
    "#### Email: [andrew.mccluskey@diamond.ac.uk](mailto:andrew.mccluskey@diamond.ac.uk)\n",
    "\n",
    "It is important to note that those represent only an example of how the problem in the handout may be approached. \n",
    "Programming problems such as these have **many** correct methods.\n",
    "\n",
    "We **strongly** advise that you try and work though the problem without looking at this worked example. \n",
    "This is the best way to improve your programming skills; as programming is inherently problem-solving based. \n",
    "\n",
    "## Problem 1: Energy minimisation\n",
    "\n",
    "#### Spec \n",
    "\n",
    "Write a Newton-Raphson root finding algorithm to find the minimium of a Lennard-Jones potential.\n",
    "\n",
    "#### Algorithm\n",
    "\n",
    "1. Import `numpy`\n",
    "2. Write a function for $E$, $E'$ and $E''$\n",
    "3. Get a starting value for $r$\n",
    "4. Evaluate $E'$ and $E''$ at $r$\n",
    "5. Update $r$ based on the ratio between $E'$ and $E''$\n",
    "6. To go 4\n",
    "7. Repeat until the energy change is less than 1e-20 eV."
   ]
  },
  {
   "cell_type": "code",
   "execution_count": null,
   "metadata": {},
   "outputs": [],
   "source": [
    "import numpy as np"
   ]
  },
  {
   "cell_type": "markdown",
   "metadata": {},
   "source": [
    "The $E$, $E'$, and $E''$ can be defined in a module, however for clarity I will define them here. "
   ]
  },
  {
   "cell_type": "code",
   "execution_count": null,
   "metadata": {},
   "outputs": [],
   "source": [
    "def energy(r, A, B):\n",
    "    return A / (r ** 12) - B / (r ** 6)\n",
    "\n",
    "def energy_prime(r, A, B):\n",
    "    return -12 * A / (r ** 13) + 6 * B / (r ** 7)\n",
    "\n",
    "def energy_double_prime(r, A, B):\n",
    "    return 156 * A / (r ** 14) - 42 * B / (r ** 8)"
   ]
  },
  {
   "cell_type": "code",
   "execution_count": null,
   "metadata": {},
   "outputs": [],
   "source": [
    "r = 3.5\n",
    "A = 1e5\n",
    "B = 40"
   ]
  },
  {
   "cell_type": "code",
   "execution_count": null,
   "metadata": {},
   "outputs": [],
   "source": [
    "deltaE = 100\n",
    "E = energy(r, A, B)\n",
    "i = 0\n",
    "while deltaE > 1e-20:\n",
    "    print('Step: {:d}'.format(i))\n",
    "    print('The current energy is {:2e} eV, at a distance of {:2f} Å'.format(E, r))\n",
    "    r_new = r - energy_prime(r, A, B) / energy_double_prime(r, A, B)\n",
    "    E_new = energy(r_new, A, B)\n",
    "    deltaE = np.abs(E_new - E)\n",
    "    print('The new energy is {:2e} eV, at a distance of {:2f} Å'.format(E_new, r_new))\n",
    "    E = E_new\n",
    "    r = r_new\n",
    "    i += 1"
   ]
  },
  {
   "cell_type": "markdown",
   "metadata": {},
   "source": [
    "We can use `matplotlib` to visually inspect if we have managed to reach a minimum. "
   ]
  },
  {
   "cell_type": "code",
   "execution_count": null,
   "metadata": {},
   "outputs": [],
   "source": [
    "import matplotlib.pyplot as plt"
   ]
  },
  {
   "cell_type": "code",
   "execution_count": null,
   "metadata": {},
   "outputs": [],
   "source": [
    "plt.plot(np.arange(3.5, 6, 0.01), energy(np.arange(3.5, 6, 0.01), A, B))\n",
    "plt.plot(r, energy(r, A, B), 'o')\n",
    "plt.xlabel('Distance/Å')\n",
    "plt.ylabel('Energy/eV')\n",
    "plt.show()"
   ]
  },
  {
   "cell_type": "markdown",
   "metadata": {},
   "source": [
    "## Extension: harmonic potential\n",
    "\n",
    "Repeat for a harmonic potential."
   ]
  },
  {
   "cell_type": "code",
   "execution_count": null,
   "metadata": {},
   "outputs": [],
   "source": [
    "def energy(r, k, req):\n",
    "    return 0.5 * k * (r - req) ** 2\n",
    "\n",
    "def energy_prime(r, k, req):\n",
    "    return k * (r - req)\n",
    "\n",
    "def energy_double_prime(r, k, req):\n",
    "    return k"
   ]
  },
  {
   "cell_type": "code",
   "execution_count": null,
   "metadata": {},
   "outputs": [],
   "source": [
    "r = 1\n",
    "k = 32.2\n",
    "req = 1.27"
   ]
  },
  {
   "cell_type": "code",
   "execution_count": null,
   "metadata": {},
   "outputs": [],
   "source": [
    "deltaE = 100\n",
    "E = energy(r, k, req)\n",
    "i = 0\n",
    "while deltaE > 1e-20:\n",
    "    print('Step: {:d}'.format(i))\n",
    "    print('The current energy is {:2e} eV, at a distance of {:2f} Å'.format(E, r))\n",
    "    r_new = r - energy_prime(r, k, req) / energy_double_prime(r, k, req)\n",
    "    E_new = energy(r_new, k, req)\n",
    "    deltaE = np.abs(E_new - E)\n",
    "    print('The new energy is {:2e} eV, at a distance of {:2f} Å'.format(E_new, r_new))\n",
    "    E = E_new\n",
    "    r = r_new\n",
    "    i += 1"
   ]
  },
  {
   "cell_type": "code",
   "execution_count": null,
   "metadata": {},
   "outputs": [],
   "source": []
  }
 ],
 "metadata": {
  "kernelspec": {
   "display_name": "Python 3",
   "language": "python",
   "name": "python3"
  },
  "language_info": {
   "codemirror_mode": {
    "name": "ipython",
    "version": 3
   },
   "file_extension": ".py",
   "mimetype": "text/x-python",
   "name": "python",
   "nbconvert_exporter": "python",
   "pygments_lexer": "ipython3",
   "version": "3.7.3"
  }
 },
 "nbformat": 4,
 "nbformat_minor": 2
}
